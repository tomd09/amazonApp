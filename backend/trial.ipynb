{
 "cells": [
  {
   "cell_type": "code",
   "execution_count": 1,
   "metadata": {},
   "outputs": [],
   "source": [
    "import os\n",
    "import re\n",
    "import logging\n",
    "import requests\n",
    "import datetime\n",
    "import pandas as pd\n",
    "from bs4 import BeautifulSoup\n",
    "from sqlalchemy import create_engine, text"
   ]
  },
  {
   "cell_type": "code",
   "execution_count": 2,
   "metadata": {},
   "outputs": [],
   "source": [
    "def initialiseConnection():\n",
    "    logging.disable(logging.WARNING)\n",
    "    usr = 'root'\n",
    "    pwd = 'Barney2015$$'\n",
    "    host = 'localhost'\n",
    "    port = 3306\n",
    "    dbName = 'amazonscraping'\n",
    "    engine = create_engine(f'mysql+mysqldb://{usr}:{pwd}@{host}:{port}/{dbName}', future=True)\n",
    "    return engine"
   ]
  },
  {
   "cell_type": "code",
   "execution_count": 3,
   "metadata": {},
   "outputs": [],
   "source": [
    "def retrieveTable(table):\n",
    "    engine = initialiseConnection()\n",
    "    with engine.connect() as conn:\n",
    "        df = pd.read_sql(text(f'SELECT * FROM {table};'), conn)\n",
    "    return df"
   ]
  },
  {
   "cell_type": "code",
   "execution_count": 4,
   "metadata": {},
   "outputs": [],
   "source": [
    "def addNewItem(url, name, type):\n",
    "    try:\n",
    "        session = requests.Session()\n",
    "        session.headers.update({\n",
    "            'User-Agent': 'Mozilla/5.0 (Windows NT 10.0; Win64; x64) AppleWebKit/537.36 (KHTML, like Gecko) Chrome/58.0.3029.110 Safari/537.3'\n",
    "        })\n",
    "        response = session.get(url)\n",
    "        htmlContent = response.text\n",
    "        soup = BeautifulSoup(htmlContent, 'html.parser')\n",
    "        priceDiv = soup.find('div', class_='a-section a-spacing-none aok-align-center aok-relative')\n",
    "        price = None\n",
    "        if priceDiv:\n",
    "            price = float(priceDiv.text.strip().split(' ')[-1][1:])\n",
    "        df = pd.DataFrame([[name, type, url, price, datetime.datetime.now().strftime('%Y-%m-%d %H:%M:%S')]], columns=['Name', 'Type', 'Link', 'Price', 'Time'])\n",
    "        engine = initialiseConnection()\n",
    "        df.to_sql(name='amazonprices', con=engine, index=False, if_exists='append')\n",
    "    except:\n",
    "        print('Invalid Amazon URL Supplied')"
   ]
  },
  {
   "cell_type": "code",
   "execution_count": 5,
   "metadata": {},
   "outputs": [
    {
     "data": {
      "text/html": [
       "<div>\n",
       "<style scoped>\n",
       "    .dataframe tbody tr th:only-of-type {\n",
       "        vertical-align: middle;\n",
       "    }\n",
       "\n",
       "    .dataframe tbody tr th {\n",
       "        vertical-align: top;\n",
       "    }\n",
       "\n",
       "    .dataframe thead th {\n",
       "        text-align: right;\n",
       "    }\n",
       "</style>\n",
       "<table border=\"1\" class=\"dataframe\">\n",
       "  <thead>\n",
       "    <tr style=\"text-align: right;\">\n",
       "      <th></th>\n",
       "      <th>Name</th>\n",
       "      <th>Type</th>\n",
       "      <th>Link</th>\n",
       "      <th>Price</th>\n",
       "      <th>Time</th>\n",
       "    </tr>\n",
       "  </thead>\n",
       "  <tbody>\n",
       "    <tr>\n",
       "      <th>0</th>\n",
       "      <td>Uncanny X-Force</td>\n",
       "      <td>Omnibus</td>\n",
       "      <td>https://www.amazon.com.au/UNCANNY-X-FORCE-REME...</td>\n",
       "      <td>167.95</td>\n",
       "      <td>2024-08-01 15:54:10</td>\n",
       "    </tr>\n",
       "    <tr>\n",
       "      <th>1</th>\n",
       "      <td>Uncanny X-Force</td>\n",
       "      <td>Omnibus</td>\n",
       "      <td>https://www.amazon.com.au/UNCANNY-X-FORCE-REME...</td>\n",
       "      <td>167.95</td>\n",
       "      <td>2024-08-01 15:56:05</td>\n",
       "    </tr>\n",
       "    <tr>\n",
       "      <th>2</th>\n",
       "      <td>Lego Avengers Tower</td>\n",
       "      <td>Omnibus</td>\n",
       "      <td>https://www.amazon.com.au/LEGO-76269-Avengers-...</td>\n",
       "      <td>NaN</td>\n",
       "      <td>2024-08-01 15:57:43</td>\n",
       "    </tr>\n",
       "    <tr>\n",
       "      <th>3</th>\n",
       "      <td>Uncanny X-Force</td>\n",
       "      <td>Omnibus</td>\n",
       "      <td>https://www.amazon.com.au/UNCANNY-X-FORCE-REME...</td>\n",
       "      <td>167.95</td>\n",
       "      <td>2024-08-01 15:58:48</td>\n",
       "    </tr>\n",
       "    <tr>\n",
       "      <th>4</th>\n",
       "      <td>Punisher Max By Ennis Vol. 1</td>\n",
       "      <td>Omnibus</td>\n",
       "      <td>https://www.amazon.com.au/PUNISHER-GARTH-ENNIS...</td>\n",
       "      <td>121.01</td>\n",
       "      <td>2024-08-01 16:48:27</td>\n",
       "    </tr>\n",
       "    <tr>\n",
       "      <th>5</th>\n",
       "      <td>Uncanny X-Force By Remender</td>\n",
       "      <td>Omnibus</td>\n",
       "      <td>https://www.amazon.com.au/UNCANNY-X-FORCE-REME...</td>\n",
       "      <td>167.95</td>\n",
       "      <td>2024-08-01 21:57:10</td>\n",
       "    </tr>\n",
       "  </tbody>\n",
       "</table>\n",
       "</div>"
      ],
      "text/plain": [
       "                           Name     Type  \\\n",
       "0               Uncanny X-Force  Omnibus   \n",
       "1               Uncanny X-Force  Omnibus   \n",
       "2           Lego Avengers Tower  Omnibus   \n",
       "3               Uncanny X-Force  Omnibus   \n",
       "4  Punisher Max By Ennis Vol. 1  Omnibus   \n",
       "5   Uncanny X-Force By Remender  Omnibus   \n",
       "\n",
       "                                                Link   Price  \\\n",
       "0  https://www.amazon.com.au/UNCANNY-X-FORCE-REME...  167.95   \n",
       "1  https://www.amazon.com.au/UNCANNY-X-FORCE-REME...  167.95   \n",
       "2  https://www.amazon.com.au/LEGO-76269-Avengers-...     NaN   \n",
       "3  https://www.amazon.com.au/UNCANNY-X-FORCE-REME...  167.95   \n",
       "4  https://www.amazon.com.au/PUNISHER-GARTH-ENNIS...  121.01   \n",
       "5  https://www.amazon.com.au/UNCANNY-X-FORCE-REME...  167.95   \n",
       "\n",
       "                  Time  \n",
       "0  2024-08-01 15:54:10  \n",
       "1  2024-08-01 15:56:05  \n",
       "2  2024-08-01 15:57:43  \n",
       "3  2024-08-01 15:58:48  \n",
       "4  2024-08-01 16:48:27  \n",
       "5  2024-08-01 21:57:10  "
      ]
     },
     "execution_count": 5,
     "metadata": {},
     "output_type": "execute_result"
    }
   ],
   "source": [
    "retrieveTable('amazonprices')"
   ]
  },
  {
   "cell_type": "code",
   "execution_count": 6,
   "metadata": {},
   "outputs": [],
   "source": [
    "uncannyUrl = 'https://www.amazon.com.au/UNCANNY-X-FORCE-REMENDER-OMNIBUS-PRINTING/dp/1302957732/ref=sr_1_2?crid=18Z2HWOAF2CRG&dib=eyJ2IjoiMSJ9.YOTNRks2nVm1tZp3ZXhRsEobHBCpOn2n2AUyU2-6lj3UrBjDv__BeQDzx1LIwu7NUNLmMYz4FOCrWU7gL_7T-Q3jfqj48sOrjUm9NY8Q-BCZSmgIev2sH7vaALE1HlQWUx9mzXVdBcx9xRVZI3dRgSnd5OlOSmgAryl1nrpHDBDW6u4q0BwibAfNfXOa39h6Q0NvWx_94lN7dpIBj5Dr2S62U3u1GMgiyC6dnfhtOPkZhnEERLg1iClY-hNr4-uv16m3esL0wzZ4Cbu4GW3DtRx0A2SBm-Sx-47xhNlIqSs.KpEzAxCepp6jYEcUP3aXvKNRAW_-UL4ITs21J13JdmA&dib_tag=se&keywords=uncanny+x+force+omnibus&qid=1722520554&sprefix=uncanny+x+forceomnibus%2Caps%2C361&sr=8-2'\n"
   ]
  },
  {
   "cell_type": "code",
   "execution_count": 7,
   "metadata": {},
   "outputs": [],
   "source": [
    "legoURL = 'https://www.amazon.com.au/LEGO-76269-Avengers-Tower-Available/dp/B0CN78FNTY/ref=sr_1_1?crid=25473F843JZ4S&dib=eyJ2IjoiMSJ9.Z6TJs4L31UU2mYyvLIULxf7aTn6Zt5ziJMo_NGus07COiKZSdET5ykByB5blJAwqvVUtQJ9WX-e3a4C5IIUobChlEeStEiK1AQzlbqQ7cEpN8K4_LDIYTZLhvsKd4OezKtmNXHGXm3nQzPxk_oApwdGknMXfRpX2jwnaowgRsqO4nVslMiTq-gV5mRkHNNSv2wfM3RbV4zx1J8XACTu9gWzC_oUsTCe0FyNd3IlxtKlFkgd2OTN9ICeyARLlWuTy8BKkjU9fneVQ3Er-gUvvjgVEeiYv3hi734MSgQ3otV8.2JPLVzNHxvI1u6Vl6A6b8SWjh5y2KT9xJi9NPFabnt0&dib_tag=se&keywords=lego+avengers+tower&qid=1722499021&sprefix=lego+avengers+tow%2Caps%2C295&sr=8-1'\n"
   ]
  }
 ],
 "metadata": {
  "kernelspec": {
   "display_name": ".venv",
   "language": "python",
   "name": "python3"
  },
  "language_info": {
   "codemirror_mode": {
    "name": "ipython",
    "version": 3
   },
   "file_extension": ".py",
   "mimetype": "text/x-python",
   "name": "python",
   "nbconvert_exporter": "python",
   "pygments_lexer": "ipython3",
   "version": "3.12.4"
  }
 },
 "nbformat": 4,
 "nbformat_minor": 2
}
